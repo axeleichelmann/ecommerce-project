{
 "cells": [
  {
   "cell_type": "code",
   "execution_count": 1,
   "metadata": {},
   "outputs": [],
   "source": [
    "import requests"
   ]
  },
  {
   "cell_type": "code",
   "execution_count": 2,
   "metadata": {},
   "outputs": [],
   "source": [
    "API_url = \"https://ecommerce-api-production-50293729231.europe-west10.run.app\""
   ]
  },
  {
   "cell_type": "code",
   "execution_count": 3,
   "metadata": {},
   "outputs": [
    {
     "name": "stdout",
     "output_type": "stream",
     "text": [
      "200\n"
     ]
    },
    {
     "data": {
      "text/plain": [
       "{'health_check': 'OK'}"
      ]
     },
     "execution_count": 3,
     "metadata": {},
     "output_type": "execute_result"
    }
   ],
   "source": [
    "# Carry out health check\n",
    "response = requests.get(url=API_url + '/')\n",
    "print(response.status_code)\n",
    "response.json()"
   ]
  },
  {
   "cell_type": "code",
   "execution_count": 5,
   "metadata": {},
   "outputs": [
    {
     "name": "stdout",
     "output_type": "stream",
     "text": [
      "200\n"
     ]
    },
    {
     "data": {
      "text/plain": [
       "{'name': 'Product Recommendation',\n",
       " 'Description': 'Search API to identify similar products to a customers previous purchases'}"
      ]
     },
     "execution_count": 5,
     "metadata": {},
     "output_type": "execute_result"
    }
   ],
   "source": [
    "# Carry out info check\n",
    "response = requests.get(url=API_url + '/info')\n",
    "print(response.status_code)\n",
    "response.json()"
   ]
  },
  {
   "cell_type": "code",
   "execution_count": 6,
   "metadata": {},
   "outputs": [
    {
     "name": "stdout",
     "output_type": "stream",
     "text": [
      "200\n"
     ]
    },
    {
     "data": {
      "text/plain": [
       "{'id': [26114, 27419, 27422, 27478, 27479, 25682, 25933, 26037, 26116, 26135],\n",
       " 'cost': [12.845250404722988,\n",
       "  24.843000076711174,\n",
       "  26.18000007048249,\n",
       "  19.16800050613284,\n",
       "  15.350000048056245,\n",
       "  11.799000022932889,\n",
       "  14.21900002285838,\n",
       "  13.865000019781291,\n",
       "  14.602500030770898,\n",
       "  14.01250001648441],\n",
       " 'category': ['Underwear',\n",
       "  'Swim',\n",
       "  'Swim',\n",
       "  'Swim',\n",
       "  'Swim',\n",
       "  'Underwear',\n",
       "  'Underwear',\n",
       "  'Underwear',\n",
       "  'Underwear',\n",
       "  'Underwear'],\n",
       " 'name': [\"Speedo Men's Race Nylon Solid Water Polo Brief Swimsuit\",\n",
       "  \"Speedo Men's Race Endurance+ Polyester Solid Square Leg Swimsuit\",\n",
       "  \"Speedo Men's Race Endurance+ Polyester Solid Jammer Swimsuit\",\n",
       "  \"Speedo Men's Race Nylon Lycra Blend Learn to Swim Solid Jammer Swimsuit\",\n",
       "  \"Speedo Men's Off The Grid Endurance Plus Brief Swimsuit\",\n",
       "  'JockeyÂ® staycool V-neck T-Shirt - 2 pack',\n",
       "  'JockeyÂ® Tall Classic V-Neck - 2 pack',\n",
       "  'JockeyÂ® Tall Man Classic Crew Neck - 2-pack',\n",
       "  'JockeyÂ® Classic Crew Neck - 3-pack',\n",
       "  'JockeyÂ® Classic V-Neck - 3 pack'],\n",
       " 'brand': ['Speedo',\n",
       "  'Speedo',\n",
       "  'Speedo',\n",
       "  'Speedo',\n",
       "  'Speedo',\n",
       "  'Jockey',\n",
       "  'Jockey',\n",
       "  'Jockey',\n",
       "  'Jockey',\n",
       "  'Jockey'],\n",
       " 'retail_price': [25.950000762939453,\n",
       "  39.0,\n",
       "  44.0,\n",
       "  29.950000762939453,\n",
       "  25.0,\n",
       "  27.0,\n",
       "  29.5,\n",
       "  29.5,\n",
       "  29.5,\n",
       "  29.5],\n",
       " 'department': ['Men',\n",
       "  'Men',\n",
       "  'Men',\n",
       "  'Men',\n",
       "  'Men',\n",
       "  'Men',\n",
       "  'Men',\n",
       "  'Men',\n",
       "  'Men',\n",
       "  'Men'],\n",
       " 'sku': ['F6370BEF326F11083C0FC214D6D01D12',\n",
       "  'EB30A0EDE6E02B3430FE84FC601275E6',\n",
       "  '36B5CDE3DF91A145D823508F9B5C9C91',\n",
       "  '029C9620D62685FB5FC8CE8B375F13D5',\n",
       "  '29D5DA36688AB12B521ACBF09DC19B3F',\n",
       "  '3D8338AAE982B9C8BE5F66FF9B91823E',\n",
       "  '610139AFA33FD14569CA5713C1057FE1',\n",
       "  '21C82D72403AE8650C49E5F818834372',\n",
       "  '356F7EED0A78A9C4802B42BED40C84D6',\n",
       "  'FD7B8A148F3A229310F4170E8F4FA383'],\n",
       " 'distribution_center_id': [4, 4, 4, 4, 4, 10, 10, 10, 10, 10]}"
      ]
     },
     "execution_count": 6,
     "metadata": {},
     "output_type": "execute_result"
    }
   ],
   "source": [
    "# Test getting recommended products\n",
    "params = {\"customer_id\": 2}\n",
    "response = requests.get(url=API_url + '/recommend_products', params=params)\n",
    "print(response.status_code)\n",
    "response.json()"
   ]
  }
 ],
 "metadata": {
  "kernelspec": {
   "display_name": "env",
   "language": "python",
   "name": "python3"
  },
  "language_info": {
   "codemirror_mode": {
    "name": "ipython",
    "version": 3
   },
   "file_extension": ".py",
   "mimetype": "text/x-python",
   "name": "python",
   "nbconvert_exporter": "python",
   "pygments_lexer": "ipython3",
   "version": "3.11.6"
  }
 },
 "nbformat": 4,
 "nbformat_minor": 2
}
