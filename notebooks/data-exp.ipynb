{
 "cells": [
  {
   "cell_type": "markdown",
   "metadata": {},
   "source": [
    "# Data Exploration Notebook"
   ]
  },
  {
   "cell_type": "code",
   "execution_count": 1,
   "metadata": {},
   "outputs": [],
   "source": [
    "# Import libraries\n",
    "import numpy as np\n",
    "import pandas as pd\n",
    "import matplotlib.pyplot as plt\n",
    "\n",
    "from google.cloud import bigquery"
   ]
  },
  {
   "cell_type": "markdown",
   "metadata": {},
   "source": [
    "### Extract Data From Kaggle"
   ]
  },
  {
   "cell_type": "code",
   "execution_count": 6,
   "metadata": {},
   "outputs": [
    {
     "name": "stdout",
     "output_type": "stream",
     "text": [
      "Row((13842, 2.518749990849756, 'Accessories', 'Low Profile Dyed Cotton Twill Cap - Navy W39S55D', 'MG', 6.25, 'Women', 'EBD58B8A3F1D72F4206201DA62FB1204', 1), {'id': 0, 'cost': 1, 'category': 2, 'name': 3, 'brand': 4, 'retail_price': 5, 'department': 6, 'sku': 7, 'distribution_center_id': 8})\n",
      "Row((13928, 2.3383499148894105, 'Accessories', 'Low Profile Dyed Cotton Twill Cap - Putty W39S55D', 'MG', 5.949999809265137, 'Women', '2EAC42424D12436BDD6A5B8A88480CC3', 1), {'id': 0, 'cost': 1, 'category': 2, 'name': 3, 'brand': 4, 'retail_price': 5, 'department': 6, 'sku': 7, 'distribution_center_id': 8})\n",
      "Row((14115, 4.879559879379869, 'Accessories', 'Enzyme Regular Solid Army Caps-Black W35S45D', 'MG', 10.989999771118164, 'Women', 'EE364229B2791D1EF9355708EFF0BA34', 1), {'id': 0, 'cost': 1, 'category': 2, 'name': 3, 'brand': 4, 'retail_price': 5, 'department': 6, 'sku': 7, 'distribution_center_id': 8})\n",
      "Row((14157, 4.648769887297898, 'Accessories', 'Enzyme Regular Solid Army Caps-Olive W35S45D (One Size)', 'MG', 10.989999771118164, 'Women', '00BD13095D06C20B11A2993CA419D16B', 1), {'id': 0, 'cost': 1, 'category': 2, 'name': 3, 'brand': 4, 'retail_price': 5, 'department': 6, 'sku': 7, 'distribution_center_id': 8})\n",
      "Row((14273, 6.507929886473045, 'Accessories', 'Washed Canvas Ivy Cap - Black W11S64C', 'MG', 15.989999771118164, 'Women', 'F531DC20FDE20B7ADF3A73F52B71D0AF', 1), {'id': 0, 'cost': 1, 'category': 2, 'name': 3, 'brand': 4, 'retail_price': 5, 'department': 6, 'sku': 7, 'distribution_center_id': 8})\n",
      "Row((15674, 3.1062499998370185, 'Plus', 'Low Profile Dyed Cotton Twill Cap - Navy W39S55D', 'MG', 6.25, 'Women', '63894CE404B8C652915C41EF8B879D20', 1), {'id': 0, 'cost': 1, 'category': 2, 'name': 3, 'brand': 4, 'retail_price': 5, 'department': 6, 'sku': 7, 'distribution_center_id': 8})\n",
      "Row((15816, 3.1772999091416594, 'Plus', 'Low Profile Dyed Cotton Twill Cap - Putty W39S55D', 'MG', 5.949999809265137, 'Women', '151EA8C2D98CE89C2336324C11B1E107', 1), {'id': 0, 'cost': 1, 'category': 2, 'name': 3, 'brand': 4, 'retail_price': 5, 'department': 6, 'sku': 7, 'distribution_center_id': 8})\n",
      "Row((28646, 8.73562987972319, 'Accessories', '4 Panel Large Bill Flap Hat W15S48B (One Size Fits Most/Khaki)', 'MG', 19.989999771118164, 'Men', '789334DE6DAA80D83AB4ACB6A4BF5AC7', 1), {'id': 0, 'cost': 1, 'category': 2, 'name': 3, 'brand': 4, 'retail_price': 5, 'department': 6, 'sku': 7, 'distribution_center_id': 8})\n",
      "Row((28670, 2.6759399153566363, 'Accessories', 'Low Profile Dyed Cotton Twill Cap - Black W39S55D', 'MG', 6.179999828338623, 'Men', 'E74843B99DA8B29775C6AA9080436844', 1), {'id': 0, 'cost': 1, 'category': 2, 'name': 3, 'brand': 4, 'retail_price': 5, 'department': 6, 'sku': 7, 'distribution_center_id': 8})\n",
      "Row((28714, 2.275000000372529, 'Accessories', 'Low Profile Dyed Cotton Twill Cap - Khaki W39S55D', 'MG', 6.25, 'Men', '8CA33D44648CC9FEECEF21E5A7123291', 1), {'id': 0, 'cost': 1, 'category': 2, 'name': 3, 'brand': 4, 'retail_price': 5, 'department': 6, 'sku': 7, 'distribution_center_id': 8})\n"
     ]
    }
   ],
   "source": [
    "# Import transaction data from BigQuery\n",
    "client = bigquery.Client()\n",
    "\n",
    "QUERY = \"\"\"\n",
    "SELECT *\n",
    "FROM `ecommerce-data-project-444616.thelook_ecommerce.products`\n",
    "LIMIT 10\n",
    "\"\"\"\n",
    "\n",
    "query_job = client.query(QUERY)\n",
    "rows = query_job.result()\n",
    "\n",
    "for row in rows:\n",
    "    print(row)"
   ]
  },
  {
   "cell_type": "markdown",
   "metadata": {},
   "source": [
    "### Data Exploration"
   ]
  },
  {
   "cell_type": "code",
   "execution_count": null,
   "metadata": {},
   "outputs": [],
   "source": []
  },
  {
   "cell_type": "code",
   "execution_count": null,
   "metadata": {},
   "outputs": [],
   "source": []
  },
  {
   "cell_type": "code",
   "execution_count": null,
   "metadata": {},
   "outputs": [],
   "source": []
  }
 ],
 "metadata": {
  "kernelspec": {
   "display_name": "env",
   "language": "python",
   "name": "python3"
  },
  "language_info": {
   "codemirror_mode": {
    "name": "ipython",
    "version": 3
   },
   "file_extension": ".py",
   "mimetype": "text/x-python",
   "name": "python",
   "nbconvert_exporter": "python",
   "pygments_lexer": "ipython3",
   "version": "3.11.6"
  }
 },
 "nbformat": 4,
 "nbformat_minor": 2
}
